{
  "nbformat": 4,
  "nbformat_minor": 0,
  "metadata": {
    "colab": {
      "name": "Model_Evaluation.ipynb",
      "provenance": []
    },
    "kernelspec": {
      "name": "python3",
      "display_name": "Python 3"
    },
    "language_info": {
      "name": "python"
    }
  },
  "cells": [
    {
      "cell_type": "markdown",
      "source": [
        "### **INSTALLING HEARTPY**"
      ],
      "metadata": {
        "id": "EsfBHkSt55HU"
      }
    },
    {
      "cell_type": "code",
      "source": [
        "pip install heartpy"
      ],
      "metadata": {
        "colab": {
          "base_uri": "https://localhost:8080/"
        },
        "id": "36IZ1p8F50fr",
        "outputId": "771e477f-a237-4c7b-d1a8-dc0275c4328d"
      },
      "execution_count": 6,
      "outputs": [
        {
          "output_type": "stream",
          "name": "stdout",
          "text": [
            "Collecting heartpy\n",
            "  Downloading heartpy-1.2.7-py3-none-any.whl (1.0 MB)\n",
            "\u001b[?25l\r\u001b[K     |▎                               | 10 kB 25.5 MB/s eta 0:00:01\r\u001b[K     |▋                               | 20 kB 15.0 MB/s eta 0:00:01\r\u001b[K     |█                               | 30 kB 10.4 MB/s eta 0:00:01\r\u001b[K     |█▎                              | 40 kB 9.3 MB/s eta 0:00:01\r\u001b[K     |█▋                              | 51 kB 4.8 MB/s eta 0:00:01\r\u001b[K     |██                              | 61 kB 5.7 MB/s eta 0:00:01\r\u001b[K     |██▎                             | 71 kB 5.8 MB/s eta 0:00:01\r\u001b[K     |██▋                             | 81 kB 5.6 MB/s eta 0:00:01\r\u001b[K     |███                             | 92 kB 6.2 MB/s eta 0:00:01\r\u001b[K     |███▎                            | 102 kB 5.4 MB/s eta 0:00:01\r\u001b[K     |███▋                            | 112 kB 5.4 MB/s eta 0:00:01\r\u001b[K     |████                            | 122 kB 5.4 MB/s eta 0:00:01\r\u001b[K     |████▎                           | 133 kB 5.4 MB/s eta 0:00:01\r\u001b[K     |████▋                           | 143 kB 5.4 MB/s eta 0:00:01\r\u001b[K     |█████                           | 153 kB 5.4 MB/s eta 0:00:01\r\u001b[K     |█████▎                          | 163 kB 5.4 MB/s eta 0:00:01\r\u001b[K     |█████▌                          | 174 kB 5.4 MB/s eta 0:00:01\r\u001b[K     |█████▉                          | 184 kB 5.4 MB/s eta 0:00:01\r\u001b[K     |██████▏                         | 194 kB 5.4 MB/s eta 0:00:01\r\u001b[K     |██████▌                         | 204 kB 5.4 MB/s eta 0:00:01\r\u001b[K     |██████▉                         | 215 kB 5.4 MB/s eta 0:00:01\r\u001b[K     |███████▏                        | 225 kB 5.4 MB/s eta 0:00:01\r\u001b[K     |███████▌                        | 235 kB 5.4 MB/s eta 0:00:01\r\u001b[K     |███████▉                        | 245 kB 5.4 MB/s eta 0:00:01\r\u001b[K     |████████▏                       | 256 kB 5.4 MB/s eta 0:00:01\r\u001b[K     |████████▌                       | 266 kB 5.4 MB/s eta 0:00:01\r\u001b[K     |████████▉                       | 276 kB 5.4 MB/s eta 0:00:01\r\u001b[K     |█████████▏                      | 286 kB 5.4 MB/s eta 0:00:01\r\u001b[K     |█████████▌                      | 296 kB 5.4 MB/s eta 0:00:01\r\u001b[K     |█████████▉                      | 307 kB 5.4 MB/s eta 0:00:01\r\u001b[K     |██████████▏                     | 317 kB 5.4 MB/s eta 0:00:01\r\u001b[K     |██████████▌                     | 327 kB 5.4 MB/s eta 0:00:01\r\u001b[K     |██████████▉                     | 337 kB 5.4 MB/s eta 0:00:01\r\u001b[K     |███████████                     | 348 kB 5.4 MB/s eta 0:00:01\r\u001b[K     |███████████▍                    | 358 kB 5.4 MB/s eta 0:00:01\r\u001b[K     |███████████▊                    | 368 kB 5.4 MB/s eta 0:00:01\r\u001b[K     |████████████                    | 378 kB 5.4 MB/s eta 0:00:01\r\u001b[K     |████████████▍                   | 389 kB 5.4 MB/s eta 0:00:01\r\u001b[K     |████████████▊                   | 399 kB 5.4 MB/s eta 0:00:01\r\u001b[K     |█████████████                   | 409 kB 5.4 MB/s eta 0:00:01\r\u001b[K     |█████████████▍                  | 419 kB 5.4 MB/s eta 0:00:01\r\u001b[K     |█████████████▊                  | 430 kB 5.4 MB/s eta 0:00:01\r\u001b[K     |██████████████                  | 440 kB 5.4 MB/s eta 0:00:01\r\u001b[K     |██████████████▍                 | 450 kB 5.4 MB/s eta 0:00:01\r\u001b[K     |██████████████▊                 | 460 kB 5.4 MB/s eta 0:00:01\r\u001b[K     |███████████████                 | 471 kB 5.4 MB/s eta 0:00:01\r\u001b[K     |███████████████▍                | 481 kB 5.4 MB/s eta 0:00:01\r\u001b[K     |███████████████▊                | 491 kB 5.4 MB/s eta 0:00:01\r\u001b[K     |████████████████                | 501 kB 5.4 MB/s eta 0:00:01\r\u001b[K     |████████████████▍               | 512 kB 5.4 MB/s eta 0:00:01\r\u001b[K     |████████████████▋               | 522 kB 5.4 MB/s eta 0:00:01\r\u001b[K     |█████████████████               | 532 kB 5.4 MB/s eta 0:00:01\r\u001b[K     |█████████████████▎              | 542 kB 5.4 MB/s eta 0:00:01\r\u001b[K     |█████████████████▋              | 552 kB 5.4 MB/s eta 0:00:01\r\u001b[K     |██████████████████              | 563 kB 5.4 MB/s eta 0:00:01\r\u001b[K     |██████████████████▎             | 573 kB 5.4 MB/s eta 0:00:01\r\u001b[K     |██████████████████▋             | 583 kB 5.4 MB/s eta 0:00:01\r\u001b[K     |███████████████████             | 593 kB 5.4 MB/s eta 0:00:01\r\u001b[K     |███████████████████▎            | 604 kB 5.4 MB/s eta 0:00:01\r\u001b[K     |███████████████████▋            | 614 kB 5.4 MB/s eta 0:00:01\r\u001b[K     |████████████████████            | 624 kB 5.4 MB/s eta 0:00:01\r\u001b[K     |████████████████████▎           | 634 kB 5.4 MB/s eta 0:00:01\r\u001b[K     |████████████████████▋           | 645 kB 5.4 MB/s eta 0:00:01\r\u001b[K     |█████████████████████           | 655 kB 5.4 MB/s eta 0:00:01\r\u001b[K     |█████████████████████▎          | 665 kB 5.4 MB/s eta 0:00:01\r\u001b[K     |█████████████████████▋          | 675 kB 5.4 MB/s eta 0:00:01\r\u001b[K     |██████████████████████          | 686 kB 5.4 MB/s eta 0:00:01\r\u001b[K     |██████████████████████▏         | 696 kB 5.4 MB/s eta 0:00:01\r\u001b[K     |██████████████████████▌         | 706 kB 5.4 MB/s eta 0:00:01\r\u001b[K     |██████████████████████▉         | 716 kB 5.4 MB/s eta 0:00:01\r\u001b[K     |███████████████████████▏        | 727 kB 5.4 MB/s eta 0:00:01\r\u001b[K     |███████████████████████▌        | 737 kB 5.4 MB/s eta 0:00:01\r\u001b[K     |███████████████████████▉        | 747 kB 5.4 MB/s eta 0:00:01\r\u001b[K     |████████████████████████▏       | 757 kB 5.4 MB/s eta 0:00:01\r\u001b[K     |████████████████████████▌       | 768 kB 5.4 MB/s eta 0:00:01\r\u001b[K     |████████████████████████▉       | 778 kB 5.4 MB/s eta 0:00:01\r\u001b[K     |█████████████████████████▏      | 788 kB 5.4 MB/s eta 0:00:01\r\u001b[K     |█████████████████████████▌      | 798 kB 5.4 MB/s eta 0:00:01\r\u001b[K     |█████████████████████████▉      | 808 kB 5.4 MB/s eta 0:00:01\r\u001b[K     |██████████████████████████▏     | 819 kB 5.4 MB/s eta 0:00:01\r\u001b[K     |██████████████████████████▌     | 829 kB 5.4 MB/s eta 0:00:01\r\u001b[K     |██████████████████████████▉     | 839 kB 5.4 MB/s eta 0:00:01\r\u001b[K     |███████████████████████████▏    | 849 kB 5.4 MB/s eta 0:00:01\r\u001b[K     |███████████████████████████▌    | 860 kB 5.4 MB/s eta 0:00:01\r\u001b[K     |███████████████████████████▊    | 870 kB 5.4 MB/s eta 0:00:01\r\u001b[K     |████████████████████████████    | 880 kB 5.4 MB/s eta 0:00:01\r\u001b[K     |████████████████████████████▍   | 890 kB 5.4 MB/s eta 0:00:01\r\u001b[K     |████████████████████████████▊   | 901 kB 5.4 MB/s eta 0:00:01\r\u001b[K     |█████████████████████████████   | 911 kB 5.4 MB/s eta 0:00:01\r\u001b[K     |█████████████████████████████▍  | 921 kB 5.4 MB/s eta 0:00:01\r\u001b[K     |█████████████████████████████▊  | 931 kB 5.4 MB/s eta 0:00:01\r\u001b[K     |██████████████████████████████  | 942 kB 5.4 MB/s eta 0:00:01\r\u001b[K     |██████████████████████████████▍ | 952 kB 5.4 MB/s eta 0:00:01\r\u001b[K     |██████████████████████████████▊ | 962 kB 5.4 MB/s eta 0:00:01\r\u001b[K     |███████████████████████████████ | 972 kB 5.4 MB/s eta 0:00:01\r\u001b[K     |███████████████████████████████▍| 983 kB 5.4 MB/s eta 0:00:01\r\u001b[K     |███████████████████████████████▊| 993 kB 5.4 MB/s eta 0:00:01\r\u001b[K     |████████████████████████████████| 1.0 MB 5.4 MB/s \n",
            "\u001b[?25hRequirement already satisfied: matplotlib<=3.3.4 in /usr/local/lib/python3.7/dist-packages (from heartpy) (3.2.2)\n",
            "Requirement already satisfied: numpy>=1.17 in /usr/local/lib/python3.7/dist-packages (from heartpy) (1.21.6)\n",
            "Requirement already satisfied: scipy in /usr/local/lib/python3.7/dist-packages (from heartpy) (1.4.1)\n",
            "Requirement already satisfied: python-dateutil>=2.1 in /usr/local/lib/python3.7/dist-packages (from matplotlib<=3.3.4->heartpy) (2.8.2)\n",
            "Requirement already satisfied: kiwisolver>=1.0.1 in /usr/local/lib/python3.7/dist-packages (from matplotlib<=3.3.4->heartpy) (1.4.2)\n",
            "Requirement already satisfied: cycler>=0.10 in /usr/local/lib/python3.7/dist-packages (from matplotlib<=3.3.4->heartpy) (0.11.0)\n",
            "Requirement already satisfied: pyparsing!=2.0.4,!=2.1.2,!=2.1.6,>=2.0.1 in /usr/local/lib/python3.7/dist-packages (from matplotlib<=3.3.4->heartpy) (3.0.8)\n",
            "Requirement already satisfied: typing-extensions in /usr/local/lib/python3.7/dist-packages (from kiwisolver>=1.0.1->matplotlib<=3.3.4->heartpy) (4.2.0)\n",
            "Requirement already satisfied: six>=1.5 in /usr/local/lib/python3.7/dist-packages (from python-dateutil>=2.1->matplotlib<=3.3.4->heartpy) (1.15.0)\n",
            "Installing collected packages: heartpy\n",
            "Successfully installed heartpy-1.2.7\n"
          ]
        }
      ]
    },
    {
      "cell_type": "markdown",
      "source": [
        "### **FUNCTION TO PREDICT BASED ON CSV**"
      ],
      "metadata": {
        "id": "kB7iPAF740IS"
      }
    },
    {
      "cell_type": "code",
      "execution_count": 8,
      "metadata": {
        "id": "O3mRS8_v4yBC"
      },
      "outputs": [],
      "source": [
        "import pickle\n",
        "import pandas as pd\n",
        "import numpy as np\n",
        "import heartpy as hp\n",
        "from sklearn.preprocessing import StandardScaler\n",
        "from sklearn.model_selection import cross_val_score\n",
        "from sklearn.model_selection import GridSearchCV\n",
        "from sklearn.linear_model import LogisticRegression\n",
        "from sklearn.svm import SVC\n",
        "from sklearn.neighbors import KNeighborsClassifier\n",
        "from sklearn.ensemble import RandomForestClassifier\n",
        "import matplotlib.pyplot as plt\n",
        "from sklearn.ensemble import ExtraTreesClassifier\n",
        "from sklearn.metrics import f1_score\n",
        "\n",
        "def heart_predict(filepath, modelpath):\n",
        "  data_test = pd.read_csv(filepath)\n",
        "  rfc = pickle.load(open(modelpath, 'rb'))\n",
        "  data_all_params = []\n",
        "  for i in data_test.loc[:, 'ECG']:\n",
        "    i = np.array([int(j) for j in i.split(',')])\n",
        "    wp, measures = hp.process(i, sample_rate = 300.0, clean_rr = True,clean_rr_method='z-score',bpmmax=2000,bpmmin=-1000)\n",
        "    values = [i for i in list(measures.values())]\n",
        "    data_all_params.append(values)\n",
        "  data_all_params = np.array(data_all_params)\n",
        "  data = pd.DataFrame(data_all_params)\n",
        "  data['Classification'] = data_test['Classification']\n",
        "  data = data.replace((np.inf, -np.inf, np.nan), np.nan).reset_index(drop=True)\n",
        "  data = data.dropna()\n",
        "  data=pd.get_dummies(data,drop_first=True)\n",
        "  y_test = data['Classification_N']\n",
        "  y_pred = rfc.predict(data.iloc[:, 0:12])\n",
        "  return f1_score(y_test, y_pred)"
      ]
    },
    {
      "cell_type": "markdown",
      "source": [
        "### **IMPLEMENTING THE FUNCTION ON TESTING DATA**"
      ],
      "metadata": {
        "id": "Z7haMobX44np"
      }
    },
    {
      "cell_type": "code",
      "source": [
        "heart_predict('ECG_testing.csv', 'ModelFile')"
      ],
      "metadata": {
        "colab": {
          "base_uri": "https://localhost:8080/"
        },
        "id": "0Zrsx8bb43-v",
        "outputId": "1d898555-2b58-451c-c2fc-aba48c6a6ffd"
      },
      "execution_count": 9,
      "outputs": [
        {
          "output_type": "stream",
          "name": "stderr",
          "text": [
            "/usr/local/lib/python3.7/dist-packages/numpy/ma/core.py:5244: RuntimeWarning: Mean of empty slice.\n",
            "  result = super().mean(axis=axis, dtype=dtype, **kwargs)[()]\n",
            "/usr/local/lib/python3.7/dist-packages/numpy/core/fromnumeric.py:3724: RuntimeWarning: Degrees of freedom <= 0 for slice\n",
            "  **kwargs)\n",
            "/usr/local/lib/python3.7/dist-packages/scipy/interpolate/fitpack2.py:232: UserWarning: \n",
            "The maximal number of iterations maxit (set to 20 by the program)\n",
            "allowed for finding a smoothing spline with fp=s has been reached: s\n",
            "too small.\n",
            "There is an approximation returned but the corresponding weighted sum\n",
            "of squared residuals does not satisfy the condition abs(fp-s)/s < tol.\n",
            "  warnings.warn(message)\n",
            "/usr/local/lib/python3.7/dist-packages/numpy/core/fromnumeric.py:3441: RuntimeWarning: Mean of empty slice.\n",
            "  out=out, **kwargs)\n",
            "/usr/local/lib/python3.7/dist-packages/numpy/core/_methods.py:263: RuntimeWarning: Degrees of freedom <= 0 for slice\n",
            "  keepdims=keepdims, where=where)\n",
            "/usr/local/lib/python3.7/dist-packages/scipy/interpolate/fitpack2.py:232: UserWarning: \n",
            "A theoretically impossible result was found during the iteration\n",
            "process for finding a smoothing spline with fp = s: s too small.\n",
            "There is an approximation returned but the corresponding weighted sum\n",
            "of squared residuals does not satisfy the condition abs(fp-s)/s < tol.\n",
            "  warnings.warn(message)\n",
            "/usr/local/lib/python3.7/dist-packages/ipykernel_launcher.py:25: UserWarning: Warning: converting a masked element to nan.\n"
          ]
        },
        {
          "output_type": "execute_result",
          "data": {
            "text/plain": [
              "0.9345365053322395"
            ]
          },
          "metadata": {},
          "execution_count": 9
        }
      ]
    }
  ]
}